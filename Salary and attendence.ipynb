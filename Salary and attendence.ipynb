{
 "cells": [
  {
   "cell_type": "markdown",
   "metadata": {},
   "source": [
    "# Problem statement: Identifying the attendance of an employee and relating it with his salary and incrementing if is working extra hours, deducting salary according to the days he has taken leave."
   ]
  },
  {
   "cell_type": "code",
   "execution_count": 22,
   "metadata": {},
   "outputs": [
    {
     "name": "stdout",
     "output_type": "stream",
     "text": [
      "enter the employee name: Akhil\n",
      "enter the number of days the employee is present: 24\n",
      "enter the employee salary: 100\n",
      "number of days in a month: 30\n",
      "number of holidays an employee have taken in a month0\n",
      "enter the extra hours/days an employee have worked: 0\n",
      "1744.9402268886408\n"
     ]
    }
   ],
   "source": [
    "name = input('enter the employee name: ')#Entering the name of an employee\n",
    "days = int(input('enter the number of days the employee is present: '))#Entering number of days an employee is present\n",
    "salary = int(input('enter the employee salary: '))#Entering the salary of an employee\n",
    "month = int(input('number of days in a month: '))#Entering the number of days in a month\n",
    "company_holidays = int(input('number of holidays an employee have taken in a month'))#Entering number of holidays an employee taken in a month; in this decrement will be by 0.2%\n",
    "extra_hours = int(input('enter the extra hours/days an employee have worked: '))#Entering the number of extra hours/extra days an employee is working; in this increment by 0.2%\n",
    "credit = 0#Intiating credits with zero\n",
    "if month<=31:\n",
    "    for i in range(1,month+1):#No. of sundays=4, no. of company holidays ie every 2nd and 4th saturday =2 company allowed leave=1 \n",
    "        if days>= 24:\n",
    "            credit=+0.10#incrementing the salary by 10% credits\n",
    "            salary = salary+(salary*credit)-(company_holidays*0.002)+(extra_hours*0.002)\n",
    "        elif days>=15 and days<=20:\n",
    "            credit=+0.05#incrementing the salary by 5% credits\n",
    "            salary = salary+(salary*credit)-(company_holidays*0.002)+(extra_hours*0.002)\n",
    "        elif days<10:\n",
    "            credit=+0#No credits\n",
    "            salary = salary+(salary*credit)-(company_holidays*0.002)+(extra_hours*0.002)\n",
    "print(salary)\n"
   ]
  }
 ],
 "metadata": {
  "kernelspec": {
   "display_name": "Python 3",
   "language": "python",
   "name": "python3"
  },
  "language_info": {
   "codemirror_mode": {
    "name": "ipython",
    "version": 3
   },
   "file_extension": ".py",
   "mimetype": "text/x-python",
   "name": "python",
   "nbconvert_exporter": "python",
   "pygments_lexer": "ipython3",
   "version": "3.8.5"
  }
 },
 "nbformat": 4,
 "nbformat_minor": 4
}
